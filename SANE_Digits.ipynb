{
  "nbformat": 4,
  "nbformat_minor": 0,
  "metadata": {
    "colab": {
      "provenance": [],
      "mount_file_id": "1rQEGxOx7qKwx3IeNAjBdJlug0-4-yVCL",
      "authorship_tag": "ABX9TyPC0OJ7I33BKRZurzdIhogr",
      "include_colab_link": true
    },
    "kernelspec": {
      "name": "python3",
      "display_name": "Python 3"
    },
    "language_info": {
      "name": "python"
    }
  },
  "cells": [
    {
      "cell_type": "markdown",
      "metadata": {
        "id": "view-in-github",
        "colab_type": "text"
      },
      "source": [
        "<a href=\"https://colab.research.google.com/github/aas161/NeuroEvo-SANE/blob/main/SANE_Digits.ipynb\" target=\"_parent\"><img src=\"https://colab.research.google.com/assets/colab-badge.svg\" alt=\"Open In Colab\"/></a>"
      ]
    },
    {
      "cell_type": "code",
      "execution_count": 143,
      "metadata": {
        "id": "dmQiWDhJB8E0"
      },
      "outputs": [],
      "source": [
        "import numpy as np\n",
        "import pandas as pd\n",
        "import csv\n",
        "import os\n",
        "import sys\n",
        "from sklearn.datasets import load_wine, load_iris\n",
        "from sklearn import datasets\n",
        "from sklearn.preprocessing import normalize\n",
        "from sklearn.metrics import log_loss, f1_score\n",
        "from sklearn.model_selection import train_test_split\n",
        "from sklearn.utils import shuffle\n",
        "import matplotlib.pyplot as plt"
      ]
    },
    {
      "cell_type": "markdown",
      "source": [
        "The Digit Dataset URL: https://scikit-learn.org/stable/auto_examples/datasets/plot_digits_last_image.html"
      ],
      "metadata": {
        "id": "_W3fz2G03m5W"
      }
    },
    {
      "cell_type": "code",
      "source": [
        "digits = datasets.load_digits()\n",
        "\n",
        "_, axes = plt.subplots(nrows=1, ncols=6, figsize=(10, 3))\n",
        "for ax, image, label in zip(axes, digits.images, digits.target):\n",
        "    ax.set_axis_off()\n",
        "    ax.imshow(image, cmap=plt.cm.gray_r, interpolation=\"nearest\")\n",
        "    ax.set_title(\"Training: %i\" % label)\n",
        "\n",
        "print(f\"\\nКоличество примеров: {len(digits.data)}\")\n",
        "print(\"Распределение по классам:\")\n",
        "for i in range(10):\n",
        "    count = len(digits.target[digits.target == i])\n",
        "    print(f\"Класс {i}: {count} примеров\")\n",
        "\n",
        "std_deviation = digits.data.std()\n",
        "print(\"Среднеквадратическое отклонение:\", np.round(std_deviation, 2))"
      ],
      "metadata": {
        "colab": {
          "base_uri": "https://localhost:8080/",
          "height": 413
        },
        "id": "bi3sHb1rp5sd",
        "outputId": "c201889e-6398-4599-d25d-bdc48f5b8fa2"
      },
      "execution_count": 144,
      "outputs": [
        {
          "output_type": "stream",
          "name": "stdout",
          "text": [
            "\n",
            "Количество примеров: 1797\n",
            "Распределение по классам:\n",
            "Класс 0: 178 примеров\n",
            "Класс 1: 182 примеров\n",
            "Класс 2: 177 примеров\n",
            "Класс 3: 183 примеров\n",
            "Класс 4: 181 примеров\n",
            "Класс 5: 182 примеров\n",
            "Класс 6: 181 примеров\n",
            "Класс 7: 179 примеров\n",
            "Класс 8: 174 примеров\n",
            "Класс 9: 180 примеров\n",
            "Среднеквадратическое отклонение: 6.02\n"
          ]
        },
        {
          "output_type": "display_data",
          "data": {
            "text/plain": [
              "<Figure size 1000x300 with 6 Axes>"
            ],
            "image/png": "[encoded data removed]"
          },
          "metadata": {}
        }
      ]
    },
    {
      "cell_type": "code",
      "source": [
        "X = digits[\"data\"]\n",
        "Y = digits[\"target\"]\n",
        "\n",
        "# Нормализация входных векторов\n",
        "X = normalize(X, norm='max')\n",
        "X, Y = shuffle(X, Y, random_state=0)\n",
        "X_train, X_test, y_train, y_test = train_test_split(X, Y, test_size=0.2, random_state=0)\n",
        "X_train, X_val, y_train, y_val = train_test_split(X_train, y_train, test_size=0.4, random_state=0)\n",
        "\n",
        "# X_train = X_train[:200]\n",
        "# X_test = X_test[:50]\n",
        "# X_val = X_val[:50]\n",
        "\n",
        "# y_train = y_train[:200]\n",
        "# y_test = y_test[:50]\n",
        "# y_val = y_val[:50]\n",
        "\n",
        "print(X_train.shape)\n",
        "print(X_test.shape)\n",
        "print(X_val.shape)"
      ],
      "metadata": {
        "colab": {
          "base_uri": "https://localhost:8080/"
        },
        "id": "vJwjbAW8p-oS",
        "outputId": "2d1668db-3449-4baf-8da6-7745f47d4c95"
      },
      "execution_count": 145,
      "outputs": [
        {
          "output_type": "stream",
          "name": "stdout",
          "text": [
            "(862, 64)\n",
            "(360, 64)\n",
            "(575, 64)\n"
          ]
        }
      ]
    },
    {
      "cell_type": "code",
      "source": [
        "# Число эпох\n",
        "n_epoches = 1000\n",
        "# Общее количество нейронов в популяции\n",
        "total_number_neuron = 2000\n",
        "# Общее количество комбинаций нейронов\n",
        "total_number_blueprints = 500\n",
        "# Количество скрытых нейронов в нейронной сети\n",
        "number_hidden_neurons = 50\n",
        "# Количество связей у нейрона\n",
        "number_neuron_connection = 7\n",
        "\n",
        "patience = 30\n",
        "\n",
        "# Количество нейронов входного слоя\n",
        "num_input_neurons = X.shape[1]\n",
        "# Количество нейронов выходного слоя\n",
        "num_output_neurons = np.unique(Y).shape[0]\n",
        "\n",
        "model_id = 1"
      ],
      "metadata": {
        "id": "Prqojs4mqBAH"
      },
      "execution_count": null,
      "outputs": []
    },
    {
      "cell_type": "code",
      "source": [
        "class SaveBestModel:\n",
        "    \"\"\"\n",
        "    Class to save the best model while training. If the current epoch's\n",
        "    validation loss is less than the previous least less, then save the\n",
        "    model state.\n",
        "    \"\"\"\n",
        "    def __init__(self, model_name, best_valid_loss=float('inf')):\n",
        "        self.best_valid_loss = best_valid_loss\n",
        "        self.model_name = model_name\n",
        "\n",
        "    def __call__(\n",
        "        self, current_valid_loss,\n",
        "        epoch, model, counter\n",
        "    ):\n",
        "        if current_valid_loss < self.best_valid_loss:\n",
        "            self.best_valid_loss = current_valid_loss\n",
        "            print(f\"\\nBest validation loss: {self.best_valid_loss}\")\n",
        "            print(f\"\\nSaving best model for epoch: {epoch+1}\\n\")\n",
        "            np.save(\n",
        "                f'/content/drive/MyDrive/Colab Notebooks/NeuroEvo/outputs/models/{self.model_name}_{counter}',\n",
        "                model\n",
        "            )"
      ],
      "metadata": {
        "id": "UqzwGkmdqbBA"
      },
      "execution_count": 146,
      "outputs": []
    },
    {
      "cell_type": "code",
      "source": [
        "class EarlyStopping:\n",
        "    \"\"\"Early stops the training if validation loss\n",
        "    doesn't improve after a given patience.\"\"\"\n",
        "    def __init__(\n",
        "        self, model_name=\"model\", patience=7\n",
        "    ):\n",
        "        \"\"\"\n",
        "        Args:\n",
        "            patience (int): How long to wait after last time validation loss improved.\n",
        "                            Default: 7\n",
        "        \"\"\"\n",
        "        self.patience = patience\n",
        "        self.counter = 0\n",
        "        self.best_score = None\n",
        "        self.early_stop = False\n",
        "        self.save_checkpoint = SaveBestModel(model_name)\n",
        "\n",
        "    def __call__(\n",
        "        self, val_loss, model,\n",
        "        epoch, count\n",
        "    ):\n",
        "        score = -val_loss\n",
        "        if self.best_score is None:\n",
        "            self.best_score = score\n",
        "            self.save_checkpoint(val_loss, epoch, model, count)\n",
        "        elif score < self.best_score:\n",
        "            self.counter += 1\n",
        "            print(f'EarlyStopping counter: {self.counter} out of {self.patience}')\n",
        "            if self.counter >= self.patience:\n",
        "                self.early_stop = True\n",
        "        else:\n",
        "            self.best_score = score\n",
        "            self.save_checkpoint(val_loss, epoch, model, count)\n",
        "            self.counter = 0"
      ],
      "metadata": {
        "id": "S9ZzzMW9qeZC"
      },
      "execution_count": 147,
      "outputs": []
    },
    {
      "cell_type": "code",
      "source": [],
      "metadata": {
        "id": "NVHdFEDDqfkR"
      },
      "execution_count": null,
      "outputs": []
    }
  ]
}