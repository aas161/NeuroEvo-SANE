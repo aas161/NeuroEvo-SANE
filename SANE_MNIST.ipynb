{
  "nbformat": 4,
  "nbformat_minor": 0,
  "metadata": {
    "colab": {
      "provenance": [],
      "authorship_tag": "ABX9TyNc5p+Dsbeb3f9fuIm6Q9nX",
      "include_colab_link": true
    },
    "kernelspec": {
      "name": "python3",
      "display_name": "Python 3"
    },
    "language_info": {
      "name": "python"
    }
  },
  "cells": [
    {
      "cell_type": "markdown",
      "metadata": {
        "id": "view-in-github",
        "colab_type": "text"
      },
      "source": [
        "<a href=\"https://colab.research.google.com/github/aas161/NeuroEvo-SANE/blob/main/SANE_MNIST.ipynb\" target=\"_parent\"><img src=\"https://colab.research.google.com/assets/colab-badge.svg\" alt=\"Open In Colab\"/></a>"
      ]
    },
    {
      "cell_type": "code",
      "execution_count": 7,
      "metadata": {
        "id": "dmQiWDhJB8E0"
      },
      "outputs": [],
      "source": [
        "import numpy as np\n",
        "import csv\n",
        "import os\n",
        "import sys\n",
        "from keras.datasets import mnist\n",
        "from tensorflow import keras\n",
        "from sklearn.preprocessing import normalize\n",
        "from sklearn.metrics import log_loss, f1_score\n",
        "from sklearn.model_selection import train_test_split\n",
        "from sklearn.utils import shuffle\n",
        "import matplotlib.pyplot as plt"
      ]
    },
    {
      "cell_type": "code",
      "source": [
        "(x_train, y_train), (x_test, y_test) = mnist.load_data()\n",
        "\n",
        "x_train, x_val, y_train, y_val = train_test_split(x_train, y_train, test_size=0.2, random_state=42)\n",
        "\n",
        "num_classes = 10\n",
        "\n",
        "x_train = np.reshape(x_train, (x_train.shape[0], -1)) / 255\n",
        "x_test = np.reshape(x_test, (x_test.shape[0], -1)) / 255\n",
        "x_val = np.reshape(x_val, (x_val.shape[0], -1)) / 255\n",
        "\n",
        "y_train_cat = keras.utils.to_categorical(y_train, num_classes)\n",
        "y_test_cat = keras.utils.to_categorical(y_test, num_classes)\n",
        "y_val_cat = keras.utils.to_categorical(y_val, num_classes)"
      ],
      "metadata": {
        "id": "-fDAI8IoCImp"
      },
      "execution_count": 12,
      "outputs": []
    },
    {
      "cell_type": "code",
      "source": [
        "print(\"Training Images:\", x_train.shape)\n",
        "print(\"Testing Images:\", x_test.shape)\n",
        "print(\"Validation Images:\", x_val.shape)\n",
        "print(\"Training Labels:\", y_train.shape)\n",
        "print(\"Test Labels:\", y_test.shape)\n",
        "print(\"Validation Labels:\", y_val.shape)"
      ],
      "metadata": {
        "colab": {
          "base_uri": "https://localhost:8080/"
        },
        "id": "Kw9Nzkp9DTMv",
        "outputId": "71fdc104-7ffb-4d17-8e6a-b68dbdd3952b"
      },
      "execution_count": 13,
      "outputs": [
        {
          "output_type": "stream",
          "name": "stdout",
          "text": [
            "Training Images: (48000, 784)\n",
            "Testing Images: (10000, 784)\n",
            "Validation Images: (12000, 784)\n",
            "Training Labels: (48000,)\n",
            "Test Labels: (10000,)\n",
            "Validation Labels: (12000,)\n"
          ]
        }
      ]
    },
    {
      "cell_type": "code",
      "source": [
        "# Число эпох\n",
        "epochs = 30\n",
        "# Общее количество нейронов в популяции\n",
        "total_neurons = 2000\n",
        "# Общее количество комбинаций нейронов\n",
        "total_blueprints = 500\n",
        "# Количество скрытых нейронов в нейронной сети\n",
        "hidden_neurons = 100\n",
        "# Количество связей у нейрона\n",
        "neuron_connections = 7\n",
        "\n",
        "# Количество нейронов входного слоя\n",
        "input_neurons = x_train.shape[1]\n",
        "# Количество нейронов выходного слоя\n",
        "output_neurons = num_classes\n",
        "\n",
        "model_id = 1"
      ],
      "metadata": {
        "id": "FW7UatTLw9Uu"
      },
      "execution_count": 23,
      "outputs": []
    },
    {
      "cell_type": "code",
      "source": [
        "class Network:\n",
        "    def __init__(self, neural_network_neurons, n_input_neurons, n_output_neurons, n_hidden_neurons):\n",
        "\n",
        "        # Количество нейронов входного слоя\n",
        "        self.n_input_neurons = n_input_neurons\n",
        "        # Количество нейронов выходного слоя\n",
        "        self.n_output_neurons = n_output_neurons\n",
        "        # Количество нейронов скрытого слоя\n",
        "        self.n_hidden_neurons = n_hidden_neurons\n",
        "\n",
        "        # Список нейронов входящих в нейронную сеть\n",
        "        self.neural_network_neurons = neural_network_neurons # neuron_population[neuron_list]\n",
        "\n",
        "\n",
        "    def forward(self, x, f='relu'):\n",
        "        if f == 'sigmoid':\n",
        "            act = self.Sigmoid\n",
        "        else:\n",
        "            act = self.ReLU\n",
        "\n",
        "        W1, W2 = self.create_weight_matrix()\n",
        "        return self.SoftMax(np.matmul(act(np.matmul(x, W1)), W2))"
      ],
      "metadata": {
        "id": "vNbxjV7t6yoE"
      },
      "execution_count": 24,
      "outputs": []
    }
  ]
}