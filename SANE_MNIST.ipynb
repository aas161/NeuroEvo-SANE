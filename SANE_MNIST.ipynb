{
  "nbformat": 4,
  "nbformat_minor": 0,
  "metadata": {
    "colab": {
      "provenance": [],
      "authorship_tag": "ABX9TyOVWtNs6VAiXYM7o5JmNyA6",
      "include_colab_link": true
    },
    "kernelspec": {
      "name": "python3",
      "display_name": "Python 3"
    },
    "language_info": {
      "name": "python"
    }
  },
  "cells": [
    {
      "cell_type": "markdown",
      "metadata": {
        "id": "view-in-github",
        "colab_type": "text"
      },
      "source": [
        "<a href=\"https://colab.research.google.com/github/aas161/NeuroEvo-SANE/blob/main/SANE_MNIST.ipynb\" target=\"_parent\"><img src=\"https://colab.research.google.com/assets/colab-badge.svg\" alt=\"Open In Colab\"/></a>"
      ]
    },
    {
      "cell_type": "code",
      "execution_count": 7,
      "metadata": {
        "id": "dmQiWDhJB8E0"
      },
      "outputs": [],
      "source": [
        "import numpy as np\n",
        "import csv\n",
        "import os\n",
        "import sys\n",
        "from keras.datasets import mnist\n",
        "from tensorflow import keras\n",
        "from sklearn.preprocessing import normalize\n",
        "from sklearn.metrics import log_loss, f1_score\n",
        "from sklearn.model_selection import train_test_split\n",
        "from sklearn.utils import shuffle\n",
        "import matplotlib.pyplot as plt"
      ]
    },
    {
      "cell_type": "code",
      "source": [
        "(x_train, y_train), (x_test, y_test) = mnist.load_data()\n",
        "\n",
        "print('Количество изображений в обучающей выборке: ', len(x_train))\n",
        "print('Количество изображений в тестовой выборке: ', len(x_test))"
      ],
      "metadata": {
        "colab": {
          "base_uri": "https://localhost:8080/"
        },
        "id": "-fDAI8IoCImp",
        "outputId": "97ae2ed3-4898-4df4-815b-76e23655d581"
      },
      "execution_count": 8,
      "outputs": [
        {
          "output_type": "stream",
          "name": "stdout",
          "text": [
            "Количество изображений в обучающей выборке:  60000\n",
            "Количество изображений в тестовой выборке:  10000\n"
          ]
        }
      ]
    },
    {
      "cell_type": "code",
      "source": [
        "num_classes = 10\n",
        "input_shape = (28, 28, 1)\n",
        "\n",
        "x_train = x_train.astype(\"float32\") / 255\n",
        "x_test = x_test.astype(\"float32\") / 255\n",
        "x_train = np.expand_dims(x_train, -1)\n",
        "x_test = np.expand_dims(x_test, -1)\n",
        "\n",
        "y_train_cat = keras.utils.to_categorical(y_train, 10)\n",
        "y_test_cat = keras.utils.to_categorical(y_test, 10)"
      ],
      "metadata": {
        "id": "Ba0tHUNBCyYs"
      },
      "execution_count": 9,
      "outputs": []
    },
    {
      "cell_type": "code",
      "source": [
        "print(\"Training Images:\", x_train.shape)\n",
        "print(\"Testing Images:\", x_test.shape)\n",
        "print(\"Training Labels:\", y_train.shape)\n",
        "print(\"Test Labels:\", y_test.shape)"
      ],
      "metadata": {
        "colab": {
          "base_uri": "https://localhost:8080/"
        },
        "id": "Kw9Nzkp9DTMv",
        "outputId": "f4775ef8-aa35-4c5f-b4a7-abaef40bf5d9"
      },
      "execution_count": 10,
      "outputs": [
        {
          "output_type": "stream",
          "name": "stdout",
          "text": [
            "Training Images: (60000, 28, 28, 1)\n",
            "Testing Images: (10000, 28, 28, 1)\n",
            "Training Labels: (60000,)\n",
            "Test Labels: (10000,)\n"
          ]
        }
      ]
    },
    {
      "cell_type": "code",
      "source": [],
      "metadata": {
        "id": "8YffZ1qGDd1e"
      },
      "execution_count": null,
      "outputs": []
    }
  ]
}